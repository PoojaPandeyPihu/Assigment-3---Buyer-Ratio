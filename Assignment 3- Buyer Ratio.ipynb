{
 "cells": [
  {
   "cell_type": "code",
   "execution_count": 1,
   "metadata": {},
   "outputs": [],
   "source": [
    "import pandas as pd\n",
    "import numpy as np\n",
    "import seaborn as sns\n",
    "from scipy import stats"
   ]
  },
  {
   "attachments": {},
   "cell_type": "markdown",
   "metadata": {},
   "source": [
    "Sales of products in four different regions is tabulated for males and females. Find if male-female buyer rations are similar across regions.\n",
    "\n",
    "Buyer Ratio.mtw\n"
   ]
  },
  {
   "cell_type": "code",
   "execution_count": 9,
   "metadata": {},
   "outputs": [
    {
     "data": {
      "text/html": [
       "<div>\n",
       "<style scoped>\n",
       "    .dataframe tbody tr th:only-of-type {\n",
       "        vertical-align: middle;\n",
       "    }\n",
       "\n",
       "    .dataframe tbody tr th {\n",
       "        vertical-align: top;\n",
       "    }\n",
       "\n",
       "    .dataframe thead th {\n",
       "        text-align: right;\n",
       "    }\n",
       "</style>\n",
       "<table border=\"1\" class=\"dataframe\">\n",
       "  <thead>\n",
       "    <tr style=\"text-align: right;\">\n",
       "      <th></th>\n",
       "      <th>Observed Values</th>\n",
       "      <th>East</th>\n",
       "      <th>West</th>\n",
       "      <th>North</th>\n",
       "      <th>South</th>\n",
       "    </tr>\n",
       "  </thead>\n",
       "  <tbody>\n",
       "    <tr>\n",
       "      <th>0</th>\n",
       "      <td>Males</td>\n",
       "      <td>50</td>\n",
       "      <td>142</td>\n",
       "      <td>131</td>\n",
       "      <td>70</td>\n",
       "    </tr>\n",
       "    <tr>\n",
       "      <th>1</th>\n",
       "      <td>Females</td>\n",
       "      <td>435</td>\n",
       "      <td>1523</td>\n",
       "      <td>1356</td>\n",
       "      <td>750</td>\n",
       "    </tr>\n",
       "  </tbody>\n",
       "</table>\n",
       "</div>"
      ],
      "text/plain": [
       "  Observed Values  East  West  North  South\n",
       "0           Males    50   142    131     70\n",
       "1         Females   435  1523   1356    750"
      ]
     },
     "execution_count": 9,
     "metadata": {},
     "output_type": "execute_result"
    }
   ],
   "source": [
    "buyer_data = pd.read_csv('BuyerRatio.csv')\n",
    "buyer_data"
   ]
  },
  {
   "cell_type": "markdown",
   "metadata": {},
   "source": [
    "### Hypothesis Formulation\n",
    "\n",
    "* HO : All proportions are equal\n",
    "* Ha : Not all proportions are equal.\n",
    "\n",
    "#### Level of significance = 5%"
   ]
  },
  {
   "cell_type": "markdown",
   "metadata": {},
   "source": [
    "**the dependent and independent variables are discrete**\n",
    "* **So we will go for CHi- Square Test**\n",
    "\n",
    "### Chi- Square Test"
   ]
  },
  {
   "cell_type": "code",
   "execution_count": 24,
   "metadata": {},
   "outputs": [
    {
     "name": "stdout",
     "output_type": "stream",
     "text": [
      "**********************************************\n",
      "CHI SQUARE TEST RESULT\n",
      "chi2 value     : 1.5959455386610577\n",
      "p_value        : 0.6603094907091882\n",
      "dof            : 3\n",
      "\n",
      "\n",
      "expected table : [[  42.76531299  442.23468701]\n",
      " [ 146.81287862 1518.18712138]\n",
      " [ 131.11756787 1355.88243213]\n",
      " [  72.30424052  747.69575948]]\n"
     ]
    }
   ],
   "source": [
    "chi2_score,p_val,dof,expected = stats.chi2_contingency([buyer_data[\"East\"], buyer_data[\"West\"], buyer_data[\"North\"], buyer_data[\"South\"]])\n",
    "print(\"**********************************************\")\n",
    "print('CHI SQUARE TEST RESULT')\n",
    "\n",
    "print('chi2 value     :' ,chi2_score)\n",
    "print('p_value        :' ,p_val)\n",
    "print('dof            :' ,dof)\n",
    "print('\\n')\n",
    "print('expected table :' ,expected)"
   ]
  },
  {
   "cell_type": "code",
   "execution_count": 27,
   "metadata": {},
   "outputs": [
    {
     "name": "stdout",
     "output_type": "stream",
     "text": [
      "We do not reject the null hypothesis (H0) and we can say that ALL Proportions are EQUAL.\n"
     ]
    }
   ],
   "source": [
    "if p_val<0.05:\n",
    "    print('We reject the null hypothesis (H0) and we can say that Not All Proprtions are EQUAL')\n",
    "else:\n",
    "    print('We do not reject the null hypothesis (H0) and we can say that ALL Proportions are EQUAL.')"
   ]
  },
  {
   "cell_type": "markdown",
   "metadata": {},
   "source": [
    "* **p =0.6603 >0.05  , it means male-female buyer rations are similar across all regions**."
   ]
  },
  {
   "cell_type": "code",
   "execution_count": null,
   "metadata": {},
   "outputs": [],
   "source": []
  }
 ],
 "metadata": {
  "kernelspec": {
   "display_name": "Python 3",
   "language": "python",
   "name": "python3"
  },
  "language_info": {
   "codemirror_mode": {
    "name": "ipython",
    "version": 3
   },
   "file_extension": ".py",
   "mimetype": "text/x-python",
   "name": "python",
   "nbconvert_exporter": "python",
   "pygments_lexer": "ipython3",
   "version": "3.8.5"
  }
 },
 "nbformat": 4,
 "nbformat_minor": 4
}
